{
    "nbformat_minor": 1, 
    "cells": [
        {
            "source": "#                                                   Comparative Study of Indian Cities Mumbai and Kolkata\n    Rajib Kumar Sarkar                              3/24/2019\n## 1.Introduction\n### 1.1 Background\n   India (ISO: Bh\u0101rat), also known as the Republic of India (ISO: Bh\u0101rat Ga\u1e47ar\u0101jya),is a country in South Asia. It is the seventh largest country by area and with more than 1.3 billion people, it is the second most populous country as well as the most populous democracy in the world. Bounded by the Indian Ocean on the south, the Arabian Sea on the southwest, and the Bay of Bengal on the southeast, it shares land borders with Pakistan to the west; China, Nepal, and Bhutan to the northeast; and Bangladesh and Myanmar to the east. In the Indian Ocean, India is in the vicinity of Sri Lanka and the Maldives, while its Andaman and Nicobar Islands share a maritime border with Thailand and Indonesia. \n\n   India has multiple metropolitan areas in with a huge number of populations. Here is few Central National Capital Region, Mumbai Metropolitan Region,Kolkata metropolitan area, Bangalore Metropolitan Region etc.All these areas are changing in its everyday with respect to all environmental components. For example, Kolkata is competing with Delhi with respect to pollution, Bangalore is competing with Mumbai with respect to business.\n\n   My interest is on two cities among these, Mumbai and Kolkata. Here is some more details on those two cities.\n\nMumbai :\n   Mumbai (/m\u028am\u02c8ba\u026a/, also known as Bombay /b\u0252m\u02c8be\u026a/, the official name until 1995) is the capital city of the Indian state of Maharashtra. As of 2011 it is the most populous city in India with an estimated city proper population of 12.4 million. The larger Mumbai Metropolitan Region is the second most populous metropolitan area in India, with a population of 21.3 million as of 2016. Mumbai lies on the Konkan coast on the west coast of India and has a deep natural harbour. In 2008, Mumbai was named an alpha world city.It is also the wealthiest city in India,and has the highest number of millionaires and billionaires among all cities in India. Mumbai is home to three UNESCO World Heritage Sites: the Elephanta Caves, Chhatrapati Shivaji Maharaj Terminus, and the city's distinctive ensemble of Victorian and Art Deco buildings. Ref : https://en.wikipedia.org/wiki/Mumbai\n\nKolkata:\n   Kolkata /k\u0252l\u02c8k\u028ct\u0259/ ([kolkata] (About this soundlisten), also known as Calcutta /k\u00e6l\u02c8k\u028ct\u0259/, the official name until 2001) is the capital of the Indian state of West Bengal. Located on the east bank of the Hooghly River approximately 75 kilometers (47 mi) west of the border with Bangladesh, it is the principal commercial, cultural, and educational centre of East India, while the Port of Kolkata is India's oldest operating port and its sole major riverine port. The city is widely regarded as the \"cultural capital\" of India, and is also nicknamed the \"City of Joy\".According to the 2011 Indian census, it is the seventh most populous city; the city had a population of 4.5 million, while the suburb population brought the total to 14.1 million, making it the third-most populous metropolitan area in India. Ref : https://en.wikipedia.org/wiki/Kolkata\n\n\n### 1.2 Problem : \n\n   I want to do a comparative study in between two cities Kolkata and Mumbai. That would help to understand these two cities area-wise with respect to business,population, tourism, education etc.\n\n### 1.3 Interest and Intended Audience\n   \n   * Business People\n   * Job-seekers\n   * Tourist\n   * People who are planning to move to these cities\n   * Students\n\n# 2.Data \n\n### 2.1 What Data :\n       \n  * Population and Area data for Mumbai and Kolkata : https://en.wikipedia.org/wiki/List_of_metropolitan_areas_in_India\n  * Mumbai Area Information https://github.com/rajibkrsarkar/The-Battle-of-Neighborhood/blob/master/MumbaiPC.csv\n  * Kolkata Area Information https://github.com/rajibkrsarkar/The-Battle-of-Neighborhood/blob/master/KolkataPC.csv\n  * Kolkata Climate Data : https://en.wikipedia.org/wiki/Kolkata#Rainfall\n  * Mumbai Climate Data : https://en.wikipedia.org/wiki/Mumbai#Climate\n  * Colleges and Universities in Kolkata along with Degrees offered :https://en.wikipedia.org/wiki/Universities_and_colleges_of_West_Bengal\n  * Mumbai All College and List :https://github.com/rajibkrsarkar/The-Battle-of-Neighborhood/blob/master/Mumbai_Updated-All-College-List-with-Course-Detailss.pdf\n     \n\n#### 2.2 Data Understanding and Data Cleaning  :\n   To understand, the data with respect to variety and versatility and then apply cleaning process on various kinds of data.\nI have tried to collect the data as much as possible in the web, based on whatever data available. If not available, looking for data and creating data set for my analysis on this.\nI found lots of data are missing for all the data I have collected and scraped from multiple sources. If, key fields are missing, I have removed those records. For example, while comparing education based on different part of area of Mumbai with respect to Kolkata, I found highest education provided for an institute is missing. I have removed those records for both cities.\n\n# 3. Exploratory Analysis of Data\n\n   1st we are going to do a compartive study of population over the years in these two cities.\n   ", 
            "cell_type": "markdown", 
            "metadata": {
                "collapsed": true
            }
        }, 
        {
            "execution_count": 34, 
            "cell_type": "code", 
            "metadata": {}, 
            "outputs": [
                {
                    "output_type": "stream", 
                    "name": "stdout", 
                    "text": "--2019-03-29 04:31:27--  https://github.com/rajibkrsarkar/The-Battle-of-Neighborhood/blob/master/Kolkata%20Population.txt\nResolving github.com (github.com)... 192.30.253.113, 192.30.253.112\nConnecting to github.com (github.com)|192.30.253.113|:443... connected.\nHTTP request sent, awaiting response... 200 OK\nLength: unspecified [text/html]\nSaving to: \u2018t.csv\u2019\n\n    [ <=>                                   ] 60,499      --.-K/s   in 0.06s   \n\n2019-03-29 04:31:27 (978 KB/s) - \u2018t.csv\u2019 saved [60499]\n\n"
                }, 
                {
                    "execution_count": 34, 
                    "metadata": {}, 
                    "data": {
                        "text/html": "<div>\n<style scoped>\n    .dataframe tbody tr th:only-of-type {\n        vertical-align: middle;\n    }\n\n    .dataframe tbody tr th {\n        vertical-align: top;\n    }\n\n    .dataframe thead th {\n        text-align: right;\n    }\n</style>\n<table border=\"1\" class=\"dataframe\">\n  <thead>\n    <tr style=\"text-align: right;\">\n      <th></th>\n      <th>0</th>\n      <th>1</th>\n    </tr>\n  </thead>\n  <tbody>\n    <tr>\n      <th>0</th>\n      <td>NaN</td>\n      <td>Year,Population,GrowthRate,Growth</td>\n    </tr>\n    <tr>\n      <th>1</th>\n      <td>NaN</td>\n      <td>2019,14755186,0.57%,332516</td>\n    </tr>\n    <tr>\n      <th>2</th>\n      <td>NaN</td>\n      <td>2015,14422670,0.59%,419872</td>\n    </tr>\n    <tr>\n      <th>3</th>\n      <td>NaN</td>\n      <td>2010,14002798,0.59%,407646</td>\n    </tr>\n    <tr>\n      <th>4</th>\n      <td>NaN</td>\n      <td>2005,13595152,0.75%,497999</td>\n    </tr>\n    <tr>\n      <th>5</th>\n      <td>NaN</td>\n      <td>2000,13097153,1.78%,1104959</td>\n    </tr>\n    <tr>\n      <th>6</th>\n      <td>NaN</td>\n      <td>1995,11992194,1.79%,1018017</td>\n    </tr>\n    <tr>\n      <th>7</th>\n      <td>NaN</td>\n      <td>1990,10974177,1.87%,970512</td>\n    </tr>\n    <tr>\n      <th>8</th>\n      <td>NaN</td>\n      <td>1985,10003665,1.91%,903499</td>\n    </tr>\n    <tr>\n      <th>9</th>\n      <td>NaN</td>\n      <td>1980,9100166,2.19%,934537</td>\n    </tr>\n    <tr>\n      <th>10</th>\n      <td>NaN</td>\n      <td>1975,8165629,2.18%,836257</td>\n    </tr>\n    <tr>\n      <th>11</th>\n      <td>NaN</td>\n      <td>1970,7329372,2.15%,739988</td>\n    </tr>\n    <tr>\n      <th>12</th>\n      <td>NaN</td>\n      <td>1965,6589384,2.20%,679174</td>\n    </tr>\n    <tr>\n      <th>13</th>\n      <td>NaN</td>\n      <td>1960,5910210,2.52%,691124</td>\n    </tr>\n    <tr>\n      <th>14</th>\n      <td>NaN</td>\n      <td>1955,5219086,2.54%,614943</td>\n    </tr>\n    <tr>\n      <th>15</th>\n      <td>NaN</td>\n      <td>1950,4604143,0.00%,</td>\n    </tr>\n  </tbody>\n</table>\n</div>", 
                        "text/plain": "     0                                  1\n0  NaN  Year,Population,GrowthRate,Growth\n1  NaN         2019,14755186,0.57%,332516\n2  NaN         2015,14422670,0.59%,419872\n3  NaN         2010,14002798,0.59%,407646\n4  NaN         2005,13595152,0.75%,497999\n5  NaN        2000,13097153,1.78%,1104959\n6  NaN        1995,11992194,1.79%,1018017\n7  NaN         1990,10974177,1.87%,970512\n8  NaN         1985,10003665,1.91%,903499\n9  NaN          1980,9100166,2.19%,934537\n10 NaN          1975,8165629,2.18%,836257\n11 NaN          1970,7329372,2.15%,739988\n12 NaN          1965,6589384,2.20%,679174\n13 NaN          1960,5910210,2.52%,691124\n14 NaN          1955,5219086,2.54%,614943\n15 NaN                1950,4604143,0.00%,"
                    }, 
                    "output_type": "execute_result"
                }
            ], 
            "source": "! wget -O t.csv https://github.com/rajibkrsarkar/The-Battle-of-Neighborhood/blob/master/Kolkata%20Population.txt\n\n"
        }, 
        {
            "execution_count": 39, 
            "cell_type": "code", 
            "metadata": {}, 
            "outputs": [
                {
                    "execution_count": 39, 
                    "metadata": {}, 
                    "data": {
                        "text/plain": "[     0                                  1\n 0  NaN  Year,Population,GrowthRate,Growth\n 1  NaN         2019,14755186,0.57%,332516\n 2  NaN         2015,14422670,0.59%,419872\n 3  NaN         2010,14002798,0.59%,407646\n 4  NaN         2005,13595152,0.75%,497999\n 5  NaN        2000,13097153,1.78%,1104959\n 6  NaN        1995,11992194,1.79%,1018017\n 7  NaN         1990,10974177,1.87%,970512\n 8  NaN         1985,10003665,1.91%,903499\n 9  NaN          1980,9100166,2.19%,934537\n 10 NaN          1975,8165629,2.18%,836257\n 11 NaN          1970,7329372,2.15%,739988\n 12 NaN          1965,6589384,2.20%,679174\n 13 NaN          1960,5910210,2.52%,691124\n 14 NaN          1955,5219086,2.54%,614943\n 15 NaN                1950,4604143,0.00%,]"
                    }, 
                    "output_type": "execute_result"
                }
            ], 
            "source": "import pandas as pd\n\ndf=pd.read_html('t.csv')\ndf=df."
        }, 
        {
            "execution_count": 20, 
            "cell_type": "code", 
            "metadata": {}, 
            "outputs": [
                {
                    "ename": "AttributeError", 
                    "evalue": "module 'urllib' has no attribute 'urlopen'", 
                    "traceback": [
                        "\u001b[0;31m---------------------------------------------------------------------------\u001b[0m", 
                        "\u001b[0;31mAttributeError\u001b[0m                            Traceback (most recent call last)", 
                        "\u001b[0;32m<ipython-input-20-d67c11e4078a>\u001b[0m in \u001b[0;36m<module>\u001b[0;34m()\u001b[0m\n\u001b[1;32m      2\u001b[0m \u001b[0;32mimport\u001b[0m \u001b[0mcsv\u001b[0m\u001b[0;34m\u001b[0m\u001b[0m\n\u001b[1;32m      3\u001b[0m \u001b[0murl_KolPopData\u001b[0m\u001b[0;34m=\u001b[0m\u001b[0;34m'https://github.com/rajibkrsarkar/The-Battle-of-Neighborhood/blob/master/Kolkata%20Population.txt'\u001b[0m\u001b[0;34m\u001b[0m\u001b[0m\n\u001b[0;32m----> 4\u001b[0;31m \u001b[0mwebpage\u001b[0m \u001b[0;34m=\u001b[0m \u001b[0murllib\u001b[0m\u001b[0;34m.\u001b[0m\u001b[0murlopen\u001b[0m\u001b[0;34m(\u001b[0m\u001b[0murl_KolPopData\u001b[0m\u001b[0;34m)\u001b[0m\u001b[0;34m\u001b[0m\u001b[0m\n\u001b[0m\u001b[1;32m      5\u001b[0m \u001b[0mdatareader\u001b[0m \u001b[0;34m=\u001b[0m \u001b[0mcsv\u001b[0m\u001b[0;34m.\u001b[0m\u001b[0mreader\u001b[0m\u001b[0;34m(\u001b[0m\u001b[0mwebpage\u001b[0m\u001b[0;34m)\u001b[0m\u001b[0;34m\u001b[0m\u001b[0m\n\u001b[1;32m      6\u001b[0m \u001b[0;31m#Creating empty list to be inserted.\u001b[0m\u001b[0;34m\u001b[0m\u001b[0;34m\u001b[0m\u001b[0m\n", 
                        "\u001b[0;31mAttributeError\u001b[0m: module 'urllib' has no attribute 'urlopen'"
                    ], 
                    "output_type": "error"
                }
            ], 
            "source": "import urllib\nimport csv\nurl_KolPopData='https://github.com/rajibkrsarkar/The-Battle-of-Neighborhood/blob/master/Kolkata%20Population.txt'\nwebpage = urllib.urlopen(url_KolPopData)\ndatareader = csv.reader(webpage)\n#Creating empty list to be inserted.\ndata = [ ]\nfor row in datareader:\n  data.append(row)\n\nprint(data)\t\n\n"
        }, 
        {
            "execution_count": null, 
            "cell_type": "code", 
            "metadata": {}, 
            "outputs": [], 
            "source": ""
        }, 
        {
            "execution_count": 18, 
            "cell_type": "code", 
            "metadata": {}, 
            "outputs": [
                {
                    "output_type": "stream", 
                    "name": "stderr", 
                    "text": "b'Skipping line 75: expected 1 fields, saw 6\\nSkipping line 124: expected 1 fields, saw 3\\nSkipping line 143: expected 1 fields, saw 4\\nSkipping line 147: expected 1 fields, saw 2\\nSkipping line 149: expected 1 fields, saw 2\\nSkipping line 150: expected 1 fields, saw 2\\nSkipping line 151: expected 1 fields, saw 2\\nSkipping line 152: expected 1 fields, saw 2\\nSkipping line 153: expected 1 fields, saw 2\\nSkipping line 154: expected 1 fields, saw 2\\nSkipping line 155: expected 1 fields, saw 2\\nSkipping line 156: expected 1 fields, saw 2\\nSkipping line 160: expected 1 fields, saw 2\\nSkipping line 161: expected 1 fields, saw 2\\nSkipping line 167: expected 1 fields, saw 2\\nSkipping line 175: expected 1 fields, saw 4\\nSkipping line 181: expected 1 fields, saw 2\\nSkipping line 186: expected 1 fields, saw 2\\nSkipping line 187: expected 1 fields, saw 2\\nSkipping line 188: expected 1 fields, saw 2\\nSkipping line 189: expected 1 fields, saw 2\\nSkipping line 190: expected 1 fields, saw 2\\nSkipping line 195: expected 1 fields, saw 2\\nSkipping line 196: expected 1 fields, saw 2\\nSkipping line 197: expected 1 fields, saw 2\\nSkipping line 204: expected 1 fields, saw 2\\nSkipping line 212: expected 1 fields, saw 4\\nSkipping line 217: expected 1 fields, saw 2\\nSkipping line 220: expected 1 fields, saw 2\\nSkipping line 221: expected 1 fields, saw 2\\nSkipping line 225: expected 1 fields, saw 2\\nSkipping line 226: expected 1 fields, saw 2\\nSkipping line 248: expected 1 fields, saw 2\\nSkipping line 383: expected 1 fields, saw 11\\nSkipping line 385: expected 1 fields, saw 11\\nSkipping line 424: expected 1 fields, saw 9\\nSkipping line 435: expected 1 fields, saw 9\\nSkipping line 447: expected 1 fields, saw 9\\nSkipping line 531: expected 1 fields, saw 3\\nSkipping line 535: expected 1 fields, saw 3\\nSkipping line 536: expected 1 fields, saw 11\\nSkipping line 632: expected 1 fields, saw 4\\nSkipping line 637: expected 1 fields, saw 4\\nSkipping line 642: expected 1 fields, saw 4\\nSkipping line 647: expected 1 fields, saw 4\\nSkipping line 652: expected 1 fields, saw 4\\nSkipping line 657: expected 1 fields, saw 4\\nSkipping line 662: expected 1 fields, saw 4\\nSkipping line 667: expected 1 fields, saw 4\\nSkipping line 672: expected 1 fields, saw 4\\nSkipping line 677: expected 1 fields, saw 4\\nSkipping line 682: expected 1 fields, saw 4\\nSkipping line 687: expected 1 fields, saw 4\\nSkipping line 692: expected 1 fields, saw 4\\nSkipping line 697: expected 1 fields, saw 4\\nSkipping line 702: expected 1 fields, saw 4\\nSkipping line 707: expected 1 fields, saw 4\\nSkipping line 756: expected 1 fields, saw 2\\nSkipping line 757: expected 1 fields, saw 3\\nSkipping line 758: expected 1 fields, saw 3\\nSkipping line 759: expected 1 fields, saw 3\\nSkipping line 760: expected 1 fields, saw 3\\nSkipping line 761: expected 1 fields, saw 3\\nSkipping line 768: expected 1 fields, saw 3\\nSkipping line 769: expected 1 fields, saw 3\\nSkipping line 770: expected 1 fields, saw 3\\nSkipping line 771: expected 1 fields, saw 3\\nSkipping line 772: expected 1 fields, saw 3\\nSkipping line 773: expected 1 fields, saw 3\\n'\n"
                }, 
                {
                    "execution_count": 18, 
                    "metadata": {}, 
                    "data": {
                        "text/html": "<div>\n<style scoped>\n    .dataframe tbody tr th:only-of-type {\n        vertical-align: middle;\n    }\n\n    .dataframe tbody tr th {\n        vertical-align: top;\n    }\n\n    .dataframe thead th {\n        text-align: right;\n    }\n</style>\n<table border=\"1\" class=\"dataframe\">\n  <thead>\n    <tr style=\"text-align: right;\">\n      <th></th>\n    </tr>\n    <tr>\n      <th>&lt;!DOCTYPE html&gt;</th>\n    </tr>\n  </thead>\n  <tbody>\n    <tr>\n      <th>&lt;html lang=\"en\"&gt;</th>\n    </tr>\n    <tr>\n      <th>&lt;head&gt;</th>\n    </tr>\n    <tr>\n      <th>&lt;meta charset=\"utf-8\"&gt;</th>\n    </tr>\n    <tr>\n      <th>&lt;link rel=\"dns-prefetch\" href=\"https://github.githubassets.com\"&gt;</th>\n    </tr>\n    <tr>\n      <th>&lt;link rel=\"dns-prefetch\" href=\"https://avatars0.githubusercontent.com\"&gt;</th>\n    </tr>\n  </tbody>\n</table>\n</div>", 
                        "text/plain": "Empty DataFrame\nColumns: []\nIndex: [<html lang=\"en\">,   <head>,     <meta charset=\"utf-8\">,   <link rel=\"dns-prefetch\" href=\"https://github.githubassets.com\">,   <link rel=\"dns-prefetch\" href=\"https://avatars0.githubusercontent.com\">]"
                    }, 
                    "output_type": "execute_result"
                }
            ], 
            "source": "import pandas as pd\nimport numpy as np\n\ndf_kol_pop=pd.read_csv(url_KolPopData,index_col=0,parse_dates=[0],error_bad_lines=False)\ndf_kol_pop.head()"
        }, 
        {
            "execution_count": null, 
            "cell_type": "code", 
            "metadata": {}, 
            "outputs": [], 
            "source": ""
        }
    ], 
    "metadata": {
        "kernelspec": {
            "display_name": "Python 3.5", 
            "name": "python3", 
            "language": "python"
        }, 
        "language_info": {
            "mimetype": "text/x-python", 
            "nbconvert_exporter": "python", 
            "version": "3.5.5", 
            "name": "python", 
            "file_extension": ".py", 
            "pygments_lexer": "ipython3", 
            "codemirror_mode": {
                "version": 3, 
                "name": "ipython"
            }
        }
    }, 
    "nbformat": 4
}
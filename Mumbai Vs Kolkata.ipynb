{
    "nbformat_minor": 1, 
    "cells": [
        {
            "source": "#                                                   Comparative Study of Indian Cities Mumbai and Kolkata\n    Rajib Kumar Sarkar                              3/24/2019\n## 1.Introduction\n### 1.1 Background\n   India (ISO: Bh\u0101rat), also known as the Republic of India (ISO: Bh\u0101rat Ga\u1e47ar\u0101jya),is a country in South Asia. It is the seventh largest country by area and with more than 1.3 billion people, it is the second most populous country as well as the most populous democracy in the world. Bounded by the Indian Ocean on the south, the Arabian Sea on the southwest, and the Bay of Bengal on the southeast, it shares land borders with Pakistan to the west; China, Nepal, and Bhutan to the northeast; and Bangladesh and Myanmar to the east. In the Indian Ocean, India is in the vicinity of Sri Lanka and the Maldives, while its Andaman and Nicobar Islands share a maritime border with Thailand and Indonesia. \n\n   India has multiple metropolitan areas in with a huge number of populations. Here is few Central National Capital Region, Mumbai Metropolitan Region,Kolkata metropolitan area, Bangalore Metropolitan Region etc.All these areas are changing in its everyday with respect to all environmental components. For example, Kolkata is competing with Delhi with respect to pollution, Bangalore is competing with Mumbai with respect to business.\n\n   My interest is on two cities among these, Mumbai and Kolkata. Here is some more details on those two cities.\n\nMumbai :\n   Mumbai (/m\u028am\u02c8ba\u026a/, also known as Bombay /b\u0252m\u02c8be\u026a/, the official name until 1995) is the capital city of the Indian state of Maharashtra. As of 2011 it is the most populous city in India with an estimated city proper population of 12.4 million. The larger Mumbai Metropolitan Region is the second most populous metropolitan area in India, with a population of 21.3 million as of 2016. Mumbai lies on the Konkan coast on the west coast of India and has a deep natural harbour. In 2008, Mumbai was named an alpha world city.It is also the wealthiest city in India,and has the highest number of millionaires and billionaires among all cities in India. Mumbai is home to three UNESCO World Heritage Sites: the Elephanta Caves, Chhatrapati Shivaji Maharaj Terminus, and the city's distinctive ensemble of Victorian and Art Deco buildings. Ref : https://en.wikipedia.org/wiki/Mumbai\n\nKolkata:\n   Kolkata /k\u0252l\u02c8k\u028ct\u0259/ ([kolkata] (About this soundlisten), also known as Calcutta /k\u00e6l\u02c8k\u028ct\u0259/, the official name until 2001) is the capital of the Indian state of West Bengal. Located on the east bank of the Hooghly River approximately 75 kilometers (47 mi) west of the border with Bangladesh, it is the principal commercial, cultural, and educational centre of East India, while the Port of Kolkata is India's oldest operating port and its sole major riverine port. The city is widely regarded as the \"cultural capital\" of India, and is also nicknamed the \"City of Joy\".According to the 2011 Indian census, it is the seventh most populous city; the city had a population of 4.5 million, while the suburb population brought the total to 14.1 million, making it the third-most populous metropolitan area in India. Ref : https://en.wikipedia.org/wiki/Kolkata\n\n\n### 1.2 Problem : \n\n   I want to do a comparative study in between two cities Kolkata and Mumbai. That would help to understand these two cities area-wise with respect to business,population, tourism, education etc.\n\n### 1.3 Interest and Intended Audience\n   \n   * Business People\n   * Job-seekers\n   * Tourist\n   * People who are planning to move to these cities\n   * Students\n\n   # 2.Data \n\n### 2.1 What Data :\n       \n  * Population and Area data for Mumbai and Kolkata : https://en.wikipedia.org/wiki/List_of_metropolitan_areas_in_India\n  * Mumbai Area Information https://github.com/rajibkrsarkar/The-Battle-of-Neighborhood/blob/master/MumbaiPC.csv\n  * Kolkata Area Information https://github.com/rajibkrsarkar/The-Battle-of-Neighborhood/blob/master/KolkataPC.csv\n  * Kolkata Climate Data : https://en.wikipedia.org/wiki/Kolkata#Rainfall\n  * Mumbai Climate Data : https://en.wikipedia.org/wiki/Mumbai#Climate\n  * Colleges and Universities in Kolkata along with Degrees offered :https://en.wikipedia.org/wiki/Universities_and_colleges_of_West_Bengal\n  * Mumbai All College and List :https://github.com/rajibkrsarkar/The-Battle-of-Neighborhood/blob/master/Mumbai_Updated-All-College-List-with-Course-Detailss.pdf\n     \n\n#### 2.2 Data Understanding and Data Cleaning  :\n   To understand, the data with respect to variety and versatility and then apply cleaning process on various kinds of data.\nI have tried to collect the data as much as possible in the web, based on whatever data available. If not available, looking for data and creating data set for my analysis on this.\nI found lots of data are missing for all the data I have collected and scraped from multiple sources. If, key fields are missing, I have removed those records. For example, while comparing education based on different part of area of Mumbai with respect to Kolkata, I found highest education provided for an institute is missing. I have removed those records for both cities.\n \n ", 
            "cell_type": "markdown", 
            "metadata": {
                "collapsed": true
            }
        }, 
        {
            "source": "", 
            "cell_type": "markdown", 
            "metadata": {}
        }
    ], 
    "metadata": {
        "kernelspec": {
            "display_name": "Python 3.5", 
            "name": "python3", 
            "language": "python"
        }, 
        "language_info": {
            "mimetype": "text/x-python", 
            "nbconvert_exporter": "python", 
            "version": "3.5.5", 
            "name": "python", 
            "file_extension": ".py", 
            "pygments_lexer": "ipython3", 
            "codemirror_mode": {
                "version": 3, 
                "name": "ipython"
            }
        }
    }, 
    "nbformat": 4
}
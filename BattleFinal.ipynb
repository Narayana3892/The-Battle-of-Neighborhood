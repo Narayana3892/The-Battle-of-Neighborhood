{
 "cells": [
  {
   "cell_type": "markdown",
   "metadata": {},
   "source": [
    "#                                                   Comparative Study of Indian Cities Mumbai and Kolkata\n",
    "    Rajib Kumar Sarkar                              3/24/2019\n",
    "## 1.Introduction\n",
    "### 1.1 Background\n",
    "   India (ISO: Bhārat), also known as the Republic of India (ISO: Bhārat Gaṇarājya),is a country in South Asia. It is the seventh largest country by area and with more than 1.3 billion people, it is the second most populous country as well as the most populous democracy in the world. Bounded by the Indian Ocean on the south, the Arabian Sea on the southwest, and the Bay of Bengal on the southeast, it shares land borders with Pakistan to the west; China, Nepal, and Bhutan to the northeast; and Bangladesh and Myanmar to the east. In the Indian Ocean, India is in the vicinity of Sri Lanka and the Maldives, while its Andaman and Nicobar Islands share a maritime border with Thailand and Indonesia. \n",
    "\n",
    "   India has multiple metropolitan areas in with a huge number of populations. Here is few Central National Capital Region, Mumbai Metropolitan Region,Kolkata metropolitan area, Bangalore Metropolitan Region etc.All these areas are changing in its everyday with respect to all environmental components. For example, Kolkata is competing with Delhi with respect to pollution, Bangalore is competing with Mumbai with respect to business.\n",
    "\n",
    "   My interest is on two cities among these, Mumbai and Kolkata. Here is some more details on those two cities.\n",
    "\n",
    "Mumbai :\n",
    "   Mumbai (/mʊmˈbaɪ/, also known as Bombay /bɒmˈbeɪ/, the official name until 1995) is the capital city of the Indian state of Maharashtra. As of 2011 it is the most populous city in India with an estimated city proper population of 12.4 million. The larger Mumbai Metropolitan Region is the second most populous metropolitan area in India, with a population of 21.3 million as of 2016. Mumbai lies on the Konkan coast on the west coast of India and has a deep natural harbour. In 2008, Mumbai was named an alpha world city.It is also the wealthiest city in India,and has the highest number of millionaires and billionaires among all cities in India. Mumbai is home to three UNESCO World Heritage Sites: the Elephanta Caves, Chhatrapati Shivaji Maharaj Terminus, and the city's distinctive ensemble of Victorian and Art Deco buildings. Ref : https://en.wikipedia.org/wiki/Mumbai\n",
    "\n",
    "Kolkata:\n",
    "   Kolkata /kɒlˈkʌtə/ ([kolkata] (About this soundlisten), also known as Calcutta /kælˈkʌtə/, the official name until 2001) is the capital of the Indian state of West Bengal. Located on the east bank of the Hooghly River approximately 75 kilometers (47 mi) west of the border with Bangladesh, it is the principal commercial, cultural, and educational centre of East India, while the Port of Kolkata is India's oldest operating port and its sole major riverine port. The city is widely regarded as the \"cultural capital\" of India, and is also nicknamed the \"City of Joy\".According to the 2011 Indian census, it is the seventh most populous city; the city had a population of 4.5 million, while the suburb population brought the total to 14.1 million, making it the third-most populous metropolitan area in India. Ref : https://en.wikipedia.org/wiki/Kolkata\n",
    "\n",
    "\n",
    "### 1.2 Problem : \n",
    "\n",
    "   I want to do a comparative study in between two cities Kolkata and Mumbai. That would help to understand these two cities area-wise with respect to business,population, tourism, education etc.\n",
    "\n",
    "### 1.3 Interest and Intended Audience\n",
    "   \n",
    "   * Business People\n",
    "   * Job-seekers\n",
    "   * Tourist\n",
    "   * People who are planning to move to these cities\n",
    "   * Students\n",
    "\n",
    "# 2.Data \n",
    "\n",
    "### 2.1 What Data :\n",
    "       \n",
    "  * Population and Area data for Mumbai and Kolkata : https://en.wikipedia.org/wiki/List_of_metropolitan_areas_in_India\n",
    "  * Mumbai Area Information https://github.com/rajibkrsarkar/The-Battle-of-Neighborhood/blob/master/MumbaiPC.csv\n",
    "  * Kolkata Area Information https://github.com/rajibkrsarkar/The-Battle-of-Neighborhood/blob/master/KolkataPC.csv\n",
    "  * Kolkata Climate Data : https://en.wikipedia.org/wiki/Kolkata#Rainfall\n",
    "  * Mumbai Climate Data : https://en.wikipedia.org/wiki/Mumbai#Climate\n",
    "  * Colleges and Universities in Kolkata along with Degrees offered :https://en.wikipedia.org/wiki/Universities_and_colleges_of_West_Bengal\n",
    "  * Mumbai All College and List :https://github.com/rajibkrsarkar/The-Battle-of-Neighborhood/blob/master/Mumbai_Updated-All-College-List-with-Course-Detailss.pdf\n",
    "     \n",
    "\n",
    "#### 2.2 Data Understanding and Data Cleaning  :\n",
    "   To understand, the data with respect to variety and versatility and then apply cleaning process on various kinds of data.\n",
    "I have tried to collect the data as much as possible in the web, based on whatever data available. If not available, looking for data and creating data set for my analysis on this.\n",
    "I found lots of data are missing for all the data I have collected and scraped from multiple sources. If, key fields are missing, I have removed those records. For example, while comparing education based on different part of area of Mumbai with respect to Kolkata, I found highest education provided for an institute is missing. I have removed those records for both cities.\n",
    "\n",
    "# 3. Exploratory Analysis of Data\n",
    "\n",
    " ##### Compartive study of population over the years in these two cities.\n",
    "   "
   ]
  },
  {
   "cell_type": "code",
   "execution_count": null,
   "metadata": {},
   "outputs": [],
   "source": [
    "import pandas as pd\n",
    "df_Kol_pop=pd.read_csv('KolkataPopulation.txt')\n",
    "df_Mumbai_Pop=pd.read_csv('MumbaiPopulation.txt')\n",
    "df_Mumbai_Pop.head()"
   ]
  },
  {
   "cell_type": "markdown",
   "metadata": {},
   "source": [
    "##### Data Cleaning \n",
    "Drop NaN Values from the dataframes"
   ]
  },
  {
   "cell_type": "code",
   "execution_count": 35,
   "metadata": {},
   "outputs": [
    {
     "data": {
      "text/html": [
       "<div>\n",
       "<style scoped>\n",
       "    .dataframe tbody tr th:only-of-type {\n",
       "        vertical-align: middle;\n",
       "    }\n",
       "\n",
       "    .dataframe tbody tr th {\n",
       "        vertical-align: top;\n",
       "    }\n",
       "\n",
       "    .dataframe thead th {\n",
       "        text-align: right;\n",
       "    }\n",
       "</style>\n",
       "<table border=\"1\" class=\"dataframe\">\n",
       "  <thead>\n",
       "    <tr style=\"text-align: right;\">\n",
       "      <th></th>\n",
       "      <th>Year</th>\n",
       "      <th>Population</th>\n",
       "      <th>GrowthRate</th>\n",
       "      <th>Growth</th>\n",
       "    </tr>\n",
       "  </thead>\n",
       "  <tbody>\n",
       "    <tr>\n",
       "      <th>0</th>\n",
       "      <td>2019</td>\n",
       "      <td>14755186</td>\n",
       "      <td>0.57%</td>\n",
       "      <td>332516.0</td>\n",
       "    </tr>\n",
       "    <tr>\n",
       "      <th>1</th>\n",
       "      <td>2015</td>\n",
       "      <td>14422670</td>\n",
       "      <td>0.59%</td>\n",
       "      <td>419872.0</td>\n",
       "    </tr>\n",
       "    <tr>\n",
       "      <th>2</th>\n",
       "      <td>2010</td>\n",
       "      <td>14002798</td>\n",
       "      <td>0.59%</td>\n",
       "      <td>407646.0</td>\n",
       "    </tr>\n",
       "    <tr>\n",
       "      <th>3</th>\n",
       "      <td>2005</td>\n",
       "      <td>13595152</td>\n",
       "      <td>0.75%</td>\n",
       "      <td>497999.0</td>\n",
       "    </tr>\n",
       "    <tr>\n",
       "      <th>4</th>\n",
       "      <td>2000</td>\n",
       "      <td>13097153</td>\n",
       "      <td>1.78%</td>\n",
       "      <td>1104959.0</td>\n",
       "    </tr>\n",
       "  </tbody>\n",
       "</table>\n",
       "</div>"
      ],
      "text/plain": [
       "   Year  Population GrowthRate     Growth\n",
       "0  2019    14755186      0.57%   332516.0\n",
       "1  2015    14422670      0.59%   419872.0\n",
       "2  2010    14002798      0.59%   407646.0\n",
       "3  2005    13595152      0.75%   497999.0\n",
       "4  2000    13097153      1.78%  1104959.0"
      ]
     },
     "execution_count": 35,
     "metadata": {},
     "output_type": "execute_result"
    }
   ],
   "source": [
    "df_Mumbai_Pop=df_Mumbai_Pop.dropna()\n",
    "df_Mumbai_Pop\n",
    "df_Kol_pop=df_Kol_pop.dropna()\n",
    "df_Kol_pop[\"GrowthRate\"]=df_Kol_pop[\"GrowthRate\"].astype(str)\n",
    "df_Mumbai_Pop[\"GrowthRate\"]=df_Mumbai_Pop[\"GrowthRate\"].astype(str)\n",
    "df_Kol_pop.head()\n"
   ]
  },
  {
   "cell_type": "code",
   "execution_count": 73,
   "metadata": {},
   "outputs": [
    {
     "data": {
      "image/png": "[encoded data removed]",
      "text/plain": [
       "<Figure size 432x288 with 1 Axes>"
      ]
     },
     "metadata": {
      "needs_background": "light"
     },
     "output_type": "display_data"
    }
   ],
   "source": [
    "#df_Kol_pop.hist()\n",
    "plt.scatter(df_Kol_pop.Population, df_Kol_pop.Year,  color='blue',label='Kolkata')\n",
    "plt.scatter(df_Mumbai_Pop.Population, df_Mumbai_Pop.Year,  color='red',label='Mumbai')\n",
    "plt.xlabel(\"Population ( in Millons)\")\n",
    "plt.ylabel(\"Year\")\n",
    "plt.legend(loc='upper left')\n",
    "plt.show()\n"
   ]
  },
  {
   "cell_type": "code",
   "execution_count": 74,
   "metadata": {},
   "outputs": [],
   "source": [
    "y_data_kol_pop=df_Kol_pop['Year']\n",
    "y_data_kol_pop\n",
    "x_data_kol_pop=df_Kol_pop.drop(['Year','GrowthRate'],axis=1)\n",
    "x_data_kol_pop\n",
    "\n",
    "y_data_Mum_pop=df_Mumbai_Pop['Year']\n",
    "x_data_Mum_pop=df_Mumbai_Pop.drop(['Year','GrowthRate'],axis=1)"
   ]
  },
  {
   "cell_type": "code",
   "execution_count": null,
   "metadata": {},
   "outputs": [],
   "source": []
  },
  {
   "cell_type": "markdown",
   "metadata": {},
   "source": [
    "##### Test Train Data Split Kolkata and Mumbai Population"
   ]
  },
  {
   "cell_type": "code",
   "execution_count": 75,
   "metadata": {},
   "outputs": [
    {
     "name": "stdout",
     "output_type": "stream",
     "text": [
      "number of Kolkata Population test samples : 3\n",
      "number of Kolkata Population training samples: 11\n",
      "number of Kolkata Population test samples : 3\n",
      "number of Kolkata Population training samples: 11\n",
      "number of Mumbai Population test samples : 3\n",
      "number of Mumbai Population training samples: 11\n",
      "number of Mumbai Population test samples : 3\n",
      "number of Mumbai Population training samples: 11\n"
     ]
    }
   ],
   "source": [
    "from sklearn.model_selection import train_test_split\n",
    "x_train_kp, x_test_kp, y_train_kp, y_test_kp = train_test_split(x_data_kol_pop, y_data_kol_pop, test_size=0.15, random_state=1)\n",
    "x_train_mp, x_test_mp, y_train_mp, y_test_mp = train_test_split(x_data_Mum_pop, y_data_Mum_pop, test_size=0.15, random_state=1)\n",
    "\n",
    "\n",
    "print(\"number of Kolkata Population test samples :\", x_test_kp.shape[0])\n",
    "print(\"number of Kolkata Population training samples:\",x_train_kp.shape[0])\n",
    "print(\"number of Kolkata Population test samples :\", y_test_kp.shape[0])\n",
    "print(\"number of Kolkata Population training samples:\",y_train_kp.shape[0])\n",
    "\n",
    "\n",
    "\n",
    "print(\"number of Mumbai Population test samples :\", x_test_mp.shape[0])\n",
    "print(\"number of Mumbai Population training samples:\",x_train_mp.shape[0])\n",
    "print(\"number of Mumbai Population test samples :\", y_test_mp.shape[0])\n",
    "print(\"number of Mumbai Population training samples:\",y_train_mp.shape[0])"
   ]
  },
  {
   "cell_type": "markdown",
   "metadata": {},
   "source": [
    "##### Applying Liner Regression"
   ]
  },
  {
   "cell_type": "code",
   "execution_count": 76,
   "metadata": {},
   "outputs": [
    {
     "data": {
      "text/plain": [
       "array([2010.79835578, 1968.07019571, 2002.78448672, 2014.58935114,\n",
       "       1961.03399289])"
      ]
     },
     "execution_count": 76,
     "metadata": {},
     "output_type": "execute_result"
    }
   ],
   "source": [
    "from sklearn.linear_model import LinearRegression\n",
    "lr = LinearRegression()\n",
    "lr.fit(x_train_kp, y_train_kp)\n",
    "yhat_train_kp = lr.predict(x_train_kp)\n",
    "yhat_test_kp = lr.predict(x_test_kp)\n",
    "yhat_train_kp[0:5]\n",
    "lr.fit(x_train_mp, y_train_mp)\n",
    "yhat_train_mp = lr.predict(x_train_mp)\n",
    "yhat_test_mp = lr.predict(x_test_mp)\n",
    "yhat_train_mp[0:5]\n"
   ]
  },
  {
   "cell_type": "code",
   "execution_count": 69,
   "metadata": {},
   "outputs": [
    {
     "data": {
      "text/plain": [
       "\"def PollyPlot(xtrain, xtest, y_train, y_test, lr,poly_transform):\\n    width = 12\\n    height = 10\\n    plt.figure(figsize=(width, height))\\n    \\n    \\n    #training data \\n    #testing data \\n    # lr:  linear regression object \\n    #poly_transform:  polynomial transformation object \\n \\n    xmax=max([xtrain.values.max(), xtest.values.max()])\\n\\n    xmin=min([xtrain.values.min(), xtest.values.min()])\\n\\n    x=np.arange(xmin, xmax, 0.1)\\n\\n\\n    plt.plot(xtrain, y_train, 'ro', label='Training Data')\\n    plt.plot(xtest, y_test, 'go', label='Test Data')\\n    plt.plot(x, lr.predict(poly_transform.fit_transform(x.reshape(-1, 1))), label='Predicted Function')\\n    plt.ylim([-10000, 60000])\\n    plt.ylabel('Price')\\n    plt.legend()\""
      ]
     },
     "execution_count": 69,
     "metadata": {},
     "output_type": "execute_result"
    }
   ],
   "source": [
    "import matplotlib.pyplot as plt\n",
    "%matplotlib inline\n",
    "import seaborn as sns\n",
    "\n",
    "\n",
    "def DistributionPlot(RedFunction, BlueFunction, RedName, BlueName, Title):\n",
    "    width = 12\n",
    "    height = 10\n",
    "    plt.figure(figsize=(width, height))\n",
    "\n",
    "    ax1 = sns.distplot(RedFunction, hist=False, color=\"r\", label=RedName)\n",
    "    ax2 = sns.distplot(BlueFunction, hist=False, color=\"b\", label=BlueName, ax=ax1)\n",
    "\n",
    "    plt.title(Title)\n",
    "    plt.xlabel('Year')\n",
    "    plt.ylabel('Population Growth')\n",
    "\n",
    "    plt.show()\n",
    "    plt.close()\n"
   ]
  },
  {
   "cell_type": "code",
   "execution_count": 70,
   "metadata": {},
   "outputs": [
    {
     "data": {
      "image/png": "[encoded data removed]",
      "text/plain": [
       "<Figure size 864x720 with 1 Axes>"
      ]
     },
     "metadata": {
      "needs_background": "light"
     },
     "output_type": "display_data"
    }
   ],
   "source": [
    "Title = 'Distribution  Plot of  Predicted Value Using Training Data vs Training Data Distribution'\n",
    "DistributionPlot(y_train_kp, yhat_train_kp, \"Actual Values (Train)\", \"Predicted Values (Train)\", Title)"
   ]
  },
  {
   "cell_type": "markdown",
   "metadata": {},
   "source": [
    " ##### Compartive study of Climate over the years in these two cities."
   ]
  },
  {
   "cell_type": "code",
   "execution_count": null,
   "metadata": {},
   "outputs": [],
   "source": []
  },
  {
   "cell_type": "code",
   "execution_count": null,
   "metadata": {},
   "outputs": [],
   "source": [
    "    "
   ]
  },
  {
   "cell_type": "markdown",
   "metadata": {},
   "source": [
    "## Conclusion"
   ]
  },
  {
   "cell_type": "markdown",
   "metadata": {},
   "source": [
    "The population of Kolkata has increased more higher rate than Mumbai. "
   ]
  },
  {
   "cell_type": "markdown",
   "metadata": {},
   "source": []
  }
 ],
 "metadata": {
  "kernelspec": {
   "display_name": "Python 3",
   "language": "python",
   "name": "python3"
  },
  "language_info": {
   "codemirror_mode": {
    "name": "ipython",
    "version": 3
   },
   "file_extension": ".py",
   "mimetype": "text/x-python",
   "name": "python",
   "nbconvert_exporter": "python",
   "pygments_lexer": "ipython3",
   "version": "3.6.8"
  }
 },
 "nbformat": 4,
 "nbformat_minor": 2
}
